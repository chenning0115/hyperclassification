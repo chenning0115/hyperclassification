{
 "cells": [
  {
   "cell_type": "code",
   "execution_count": 3,
   "id": "3580e0fe",
   "metadata": {},
   "outputs": [],
   "source": [
    "from scipy.io import loadmat\n",
    "import numpy as np\n",
    "import pandas as pd\n",
    "import scipy.io as sio\n",
    "from sklearn.model_selection import train_test_split\n",
    "import random\n",
    "import tifffile as tiff\n",
    "import torch"
   ]
  },
  {
   "cell_type": "code",
   "execution_count": 12,
   "id": "c64956c5",
   "metadata": {},
   "outputs": [],
   "source": [
    "data = torch.randn(4,6,3,3)"
   ]
  },
  {
   "cell_type": "code",
   "execution_count": 13,
   "id": "73a9e933",
   "metadata": {},
   "outputs": [],
   "source": [
    "left_mask = torch.zeros_like(data)"
   ]
  },
  {
   "cell_type": "code",
   "execution_count": 14,
   "id": "8169806f",
   "metadata": {},
   "outputs": [],
   "source": [
    "b, s, h ,w = data.shape"
   ]
  },
  {
   "cell_type": "code",
   "execution_count": 18,
   "id": "e8fbabe5",
   "metadata": {},
   "outputs": [],
   "source": [
    "left_mask[:,list(range(0,s,2)),:,:] = 1\n",
    "right_mask = torch.ones_like(data) - left_mask"
   ]
  },
  {
   "cell_type": "code",
   "execution_count": 31,
   "id": "1deabcbb",
   "metadata": {},
   "outputs": [],
   "source": [
    "import os, sys\n",
    "sys.path.append('../')\n",
    "import data_provider.data_provider as data_provider"
   ]
  },
  {
   "cell_type": "code",
   "execution_count": 36,
   "id": "00237b05",
   "metadata": {},
   "outputs": [
    {
     "name": "stdout",
     "output_type": "stream",
     "text": [
      "[load data done.] load data shape data=(610, 340, 103), label=(610, 340)\n",
      "[data preprocessing done.] data shape data=(610, 340, 103), label=(610, 340)\n",
      "train_num=90, test_num=42686\n",
      "------[data] split data to train, test------\n",
      "train len: 90\n",
      "test len : 42686\n",
      "all len: 207400\n"
     ]
    }
   ],
   "source": [
    "dataloader = data_provider.HSIDataLoader({\"data\":{'data_sign':'Pavia'}})\n",
    "dataloader.data_path_prefix = '../../data'\n",
    "train_loader, test_loader, all_loader = dataloader.generate_torch_dataset()"
   ]
  },
  {
   "cell_type": "code",
   "execution_count": 46,
   "id": "b3338074",
   "metadata": {},
   "outputs": [],
   "source": [
    "a = torch.from_numpy(np.asarray([1,2,3,4,5]))"
   ]
  },
  {
   "cell_type": "code",
   "execution_count": 52,
   "id": "48f1777a",
   "metadata": {},
   "outputs": [
    {
     "data": {
      "text/plain": [
       "tensor([3, 4, 5], dtype=torch.int32)"
      ]
     },
     "execution_count": 52,
     "metadata": {},
     "output_type": "execute_result"
    }
   ],
   "source": [
    "a[a>2]"
   ]
  },
  {
   "cell_type": "code",
   "execution_count": null,
   "id": "292aa990",
   "metadata": {},
   "outputs": [],
   "source": []
  }
 ],
 "metadata": {
  "kernelspec": {
   "display_name": "Python 3 (ipykernel)",
   "language": "python",
   "name": "python3"
  },
  "language_info": {
   "codemirror_mode": {
    "name": "ipython",
    "version": 3
   },
   "file_extension": ".py",
   "mimetype": "text/x-python",
   "name": "python",
   "nbconvert_exporter": "python",
   "pygments_lexer": "ipython3",
   "version": "3.8.15"
  }
 },
 "nbformat": 4,
 "nbformat_minor": 5
}
