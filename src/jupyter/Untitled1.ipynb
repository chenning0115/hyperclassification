{
 "cells": [
  {
   "cell_type": "code",
   "execution_count": 1,
   "id": "3580e0fe",
   "metadata": {},
   "outputs": [],
   "source": [
    "from scipy.io import loadmat\n",
    "import numpy as np\n",
    "import pandas as pd\n",
    "import scipy.io as sio\n",
    "from sklearn.model_selection import train_test_split\n",
    "import random\n",
    "import tifffile as tiff\n",
    "import torch"
   ]
  },
  {
   "cell_type": "code",
   "execution_count": 17,
   "id": "c64956c5",
   "metadata": {},
   "outputs": [
    {
     "data": {
      "text/plain": [
       "0.10000935103796521"
      ]
     },
     "execution_count": 17,
     "metadata": {},
     "output_type": "execute_result"
    }
   ],
   "source": [
    "train = 4278\n",
    "test = 38498\n",
    "train / (train + test)"
   ]
  },
  {
   "cell_type": "code",
   "execution_count": 13,
   "id": "73a9e933",
   "metadata": {},
   "outputs": [],
   "source": [
    "left_mask = torch.zeros_like(data)"
   ]
  },
  {
   "cell_type": "code",
   "execution_count": 14,
   "id": "8169806f",
   "metadata": {},
   "outputs": [],
   "source": [
    "b, s, h ,w = data.shape"
   ]
  },
  {
   "cell_type": "code",
   "execution_count": 18,
   "id": "e8fbabe5",
   "metadata": {},
   "outputs": [],
   "source": [
    "left_mask[:,list(range(0,s,2)),:,:] = 1\n",
    "right_mask = torch.ones_like(data) - left_mask"
   ]
  },
  {
   "cell_type": "code",
   "execution_count": 31,
   "id": "1deabcbb",
   "metadata": {},
   "outputs": [],
   "source": [
    "import os, sys\n",
    "sys.path.append('../')\n",
    "import data_provider.data_provider as data_provider"
   ]
  },
  {
   "cell_type": "code",
   "execution_count": 36,
   "id": "00237b05",
   "metadata": {},
   "outputs": [
    {
     "name": "stdout",
     "output_type": "stream",
     "text": [
      "[load data done.] load data shape data=(610, 340, 103), label=(610, 340)\n",
      "[data preprocessing done.] data shape data=(610, 340, 103), label=(610, 340)\n",
      "train_num=90, test_num=42686\n",
      "------[data] split data to train, test------\n",
      "train len: 90\n",
      "test len : 42686\n",
      "all len: 207400\n"
     ]
    }
   ],
   "source": [
    "dataloader = data_provider.HSIDataLoader({\"data\":{'data_sign':'Pavia'}})\n",
    "dataloader.data_path_prefix = '../../data'\n",
    "train_loader, test_loader, all_loader = dataloader.generate_torch_dataset()"
   ]
  },
  {
   "cell_type": "code",
   "execution_count": 46,
   "id": "b3338074",
   "metadata": {},
   "outputs": [],
   "source": [
    "a = torch.from_numpy(np.asarray([1,2,3,4,5]))"
   ]
  },
  {
   "cell_type": "code",
   "execution_count": 13,
   "id": "48f1777a",
   "metadata": {},
   "outputs": [
    {
     "data": {
      "text/plain": [
       "array([5, 6])"
      ]
     },
     "execution_count": 13,
     "metadata": {},
     "output_type": "execute_result"
    }
   ],
   "source": [
    "np.random.choice([1,2,3,4,5,6], 2)"
   ]
  },
  {
   "cell_type": "code",
   "execution_count": 45,
   "id": "292aa990",
   "metadata": {},
   "outputs": [],
   "source": [
    "ll=[(0.077587284, 7), (0.11560151, 7), (0.021051716, 2), (0.023800794, 0), (0.0015684073, 8), (0.006073664, 5), (0.0005536107, 3), (0.0027236359, 5), (1.3006626e-05, 6), (0.0064185774, 5), (2.2650268e-06, 4), (0.03884423, 7), (0.009523973, 2), (0.0024401222, 8), (0.034672316, 7), (4.0301834e-06, 4), (0.007647843, 5), (0.034005783, 7), (0.001950731, 1), (7.76717e-07, 4), (8.996084e-06, 6), (0.0035572522, 5), (4.6489984e-07, 4), (0.037645206, 2), (0.0011252004, 3), (1.2587725e-05, 6), (1.5405943e-05, 6), (0.05509969, 2), (0.00082778896, 5), (0.0010689336, 5), (0.0028497397, 0), (0.058038082, 3), (0.0301336, 2), (3.4913076e-06, 6), (0.016651578, 2), (3.1361608e-06, 4), (0.002079635, 0), (0.0015180446, 0), (0.0048252996, 8), (0.004565305, 0), (0.017208377, 0), (0.015021269, 1), (0.011778832, 2), (4.1840226e-06, 6), (0.0031109762, 3), (0.0024799602, 8), (0.09559221, 7), (0.008867128, 2), (0.045225967, 1), (4.180064e-07, 4), (0.022602538, 1), (6.4212213e-06, 6), (0.005837193, 3), (0.0008233156, 5), (0.01091273, 0), (0.010315878, 2), (3.26216e-05, 4), (0.019206837, 1), (0.08607242, 7), (0.01872148, 8), (0.0004609845, 8), (3.5357984e-06, 6), (0.013318506, 1), (0.007882612, 3)]"
   ]
  },
  {
   "cell_type": "code",
   "execution_count": 46,
   "id": "4a2fc743",
   "metadata": {},
   "outputs": [
    {
     "data": {
      "text/plain": [
       "[(4.180064e-07, 4),\n",
       " (4.6489984e-07, 4),\n",
       " (7.76717e-07, 4),\n",
       " (2.2650268e-06, 4),\n",
       " (3.1361608e-06, 4),\n",
       " (3.4913076e-06, 6),\n",
       " (3.5357984e-06, 6),\n",
       " (4.0301834e-06, 4),\n",
       " (4.1840226e-06, 6),\n",
       " (6.4212213e-06, 6),\n",
       " (8.996084e-06, 6),\n",
       " (1.2587725e-05, 6),\n",
       " (1.3006626e-05, 6),\n",
       " (1.5405943e-05, 6),\n",
       " (3.26216e-05, 4),\n",
       " (0.0004609845, 8),\n",
       " (0.0005536107, 3),\n",
       " (0.0008233156, 5),\n",
       " (0.00082778896, 5),\n",
       " (0.0010689336, 5),\n",
       " (0.0011252004, 3),\n",
       " (0.0015180446, 0),\n",
       " (0.0015684073, 8),\n",
       " (0.001950731, 1),\n",
       " (0.002079635, 0),\n",
       " (0.0024401222, 8),\n",
       " (0.0024799602, 8),\n",
       " (0.0027236359, 5),\n",
       " (0.0028497397, 0),\n",
       " (0.0031109762, 3),\n",
       " (0.0035572522, 5),\n",
       " (0.004565305, 0),\n",
       " (0.0048252996, 8),\n",
       " (0.005837193, 3),\n",
       " (0.006073664, 5),\n",
       " (0.0064185774, 5),\n",
       " (0.007647843, 5),\n",
       " (0.007882612, 3),\n",
       " (0.008867128, 2),\n",
       " (0.009523973, 2),\n",
       " (0.010315878, 2),\n",
       " (0.01091273, 0),\n",
       " (0.011778832, 2),\n",
       " (0.013318506, 1),\n",
       " (0.015021269, 1),\n",
       " (0.016651578, 2),\n",
       " (0.017208377, 0),\n",
       " (0.01872148, 8),\n",
       " (0.019206837, 1),\n",
       " (0.021051716, 2),\n",
       " (0.022602538, 1),\n",
       " (0.023800794, 0),\n",
       " (0.0301336, 2),\n",
       " (0.034005783, 7),\n",
       " (0.034672316, 7),\n",
       " (0.037645206, 2),\n",
       " (0.03884423, 7),\n",
       " (0.045225967, 1),\n",
       " (0.05509969, 2),\n",
       " (0.058038082, 3),\n",
       " (0.077587284, 7),\n",
       " (0.08607242, 7),\n",
       " (0.09559221, 7),\n",
       " (0.11560151, 7)]"
      ]
     },
     "execution_count": 46,
     "metadata": {},
     "output_type": "execute_result"
    }
   ],
   "source": [
    "sorted(ll, key=lambda x : x[0])"
   ]
  }
 ],
 "metadata": {
  "kernelspec": {
   "display_name": "Python 3 (ipykernel)",
   "language": "python",
   "name": "python3"
  },
  "language_info": {
   "codemirror_mode": {
    "name": "ipython",
    "version": 3
   },
   "file_extension": ".py",
   "mimetype": "text/x-python",
   "name": "python",
   "nbconvert_exporter": "python",
   "pygments_lexer": "ipython3",
   "version": "3.8.15"
  }
 },
 "nbformat": 4,
 "nbformat_minor": 5
}
