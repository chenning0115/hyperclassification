{
 "cells": [
  {
   "cell_type": "code",
   "execution_count": 1,
   "id": "81af8c9a",
   "metadata": {},
   "outputs": [],
   "source": [
    "from scipy.io import loadmat\n",
    "import numpy as np\n",
    "import pandas as pd\n",
    "import scipy.io as sio\n",
    "from sklearn.model_selection import train_test_split\n",
    "import random\n",
    "import tifffile as tiff"
   ]
  },
  {
   "cell_type": "code",
   "execution_count": 2,
   "id": "edcb56d4",
   "metadata": {},
   "outputs": [],
   "source": [
    "data_sign = 'Pavia'\n",
    "train_num_per_class = 5\n",
    "data_path_prefix = '../../data'\n",
    "save_path = '../../data/%s/%s_split_5.mat' %(data_sign, data_sign)"
   ]
  },
  {
   "cell_type": "code",
   "execution_count": 3,
   "id": "5d97c013",
   "metadata": {},
   "outputs": [],
   "source": [
    "def load_data(data_sign):\n",
    "    if data_sign == \"Indian\":\n",
    "        data = sio.loadmat('%s/Indian_pines_corrected.mat' % data_path_prefix)['indian_pines_corrected']\n",
    "        labels = sio.loadmat('%s/Indian_pines_gt.mat' % data_path_prefix)['indian_pines_gt']\n",
    "    elif data_sign == \"Pavia\":\n",
    "        data = sio.loadmat('%s/PaviaU.mat' % data_path_prefix)['paviaU']\n",
    "        labels = sio.loadmat('%s/PaviaU_gt.mat' % data_path_prefix)['paviaU_gt'] \n",
    "    elif data_sign == \"Houston\":\n",
    "        data = sio.loadmat('%s/Houston.mat' % data_path_prefix)['img']\n",
    "        labels = sio.loadmat('%s/Houston_gt.mat' % data_path_prefix)['Houston_gt']\n",
    "    return data, labels\n",
    "\n",
    "def gen(data_sign, train_num_per_class):\n",
    "    data, labels = load_data(data_sign)\n",
    "    h, w, c = data.shape\n",
    "    class_num = labels.max()\n",
    "    class2data = {}\n",
    "    for i in range(h):\n",
    "        for j in range(w):\n",
    "            if labels[i,j] > 0:\n",
    "                if labels[i, j] in class2data:\n",
    "                    class2data[labels[i,j]].append([i, j])\n",
    "                else:\n",
    "                    class2data[labels[i,j]] = [[i,j]]\n",
    "\n",
    "    TR = np.zeros_like(labels)\n",
    "    TE = np.zeros_like(labels)\n",
    "    for cl in range(class_num):\n",
    "        class_index = cl + 1\n",
    "        ll = class2data[class_index]\n",
    "        all_index = list(range(len(ll)))\n",
    "        select_train_index = set(random.sample(all_index, train_num_per_class))\n",
    "        for index in select_train_index:\n",
    "            item = ll[index]\n",
    "            TR[item[0], item[1]] = class_index\n",
    "    TE = labels - TR\n",
    "    target = {}\n",
    "    target['TE'] = TE\n",
    "    target['TR'] = TR\n",
    "    target['input'] = data\n",
    "    return target\n",
    "\n"
   ]
  },
  {
   "cell_type": "code",
   "execution_count": 4,
   "id": "bc56e961",
   "metadata": {},
   "outputs": [],
   "source": [
    "target = gen(data_sign, train_num_per_class)\n",
    "sio.savemat(save_path, target)"
   ]
  }
 ],
 "metadata": {
  "kernelspec": {
   "display_name": "Python 3 (ipykernel)",
   "language": "python",
   "name": "python3"
  },
  "language_info": {
   "codemirror_mode": {
    "name": "ipython",
    "version": 3
   },
   "file_extension": ".py",
   "mimetype": "text/x-python",
   "name": "python",
   "nbconvert_exporter": "python",
   "pygments_lexer": "ipython3",
   "version": "3.8.15"
  }
 },
 "nbformat": 4,
 "nbformat_minor": 5
}
